{
 "metadata": {
  "language_info": {
   "codemirror_mode": {
    "name": "ipython",
    "version": 3
   },
   "file_extension": ".py",
   "mimetype": "text/x-python",
   "name": "python",
   "nbconvert_exporter": "python",
   "pygments_lexer": "ipython3",
   "version": "3.7.0-final"
  },
  "orig_nbformat": 2,
  "kernelspec": {
   "name": "python37032bitdc55cb50245547c6be644f76125353cc",
   "display_name": "Python 3.7.0 32-bit"
  }
 },
 "nbformat": 4,
 "nbformat_minor": 2,
 "cells": [
  {
   "cell_type": "code",
   "execution_count": 1,
   "metadata": {},
   "outputs": [],
   "source": [
    "import pandas as pd\n",
    "import numpy as np\n",
    "import matplotlib.pyplot as plt\n",
    "from sklearn.model_selection import train_test_split\n",
    "from sklearn import linear_model\n",
    "from sklearn import metrics"
   ]
  },
  {
   "cell_type": "code",
   "execution_count": 2,
   "metadata": {
    "tags": []
   },
   "outputs": [
    {
     "output_type": "stream",
     "name": "stdout",
     "text": "male  age  education  currentSmoker  cigsPerDay  BPMeds  \\\n0        1   39        4.0              0         0.0     0.0   \n1        0   46        2.0              0         0.0     0.0   \n2        1   48        1.0              1        20.0     0.0   \n3        0   61        3.0              1        30.0     0.0   \n4        0   46        3.0              1        23.0     0.0   \n...    ...  ...        ...            ...         ...     ...   \n4235     0   48        2.0              1        20.0     NaN   \n4236     0   44        1.0              1        15.0     0.0   \n4237     0   52        2.0              0         0.0     0.0   \n4238     1   40        3.0              0         0.0     0.0   \n4239     0   39        3.0              1        30.0     0.0   \n\n      prevalentStroke  prevalentHyp  diabetes  totChol  sysBP  diaBP    BMI  \\\n0                   0             0         0    195.0  106.0   70.0  26.97   \n1                   0             0         0    250.0  121.0   81.0  28.73   \n2                   0             0         0    245.0  127.5   80.0  25.34   \n3                   0             1         0    225.0  150.0   95.0  28.58   \n4                   0             0         0    285.0  130.0   84.0  23.10   \n...               ...           ...       ...      ...    ...    ...    ...   \n4235                0             0         0    248.0  131.0   72.0  22.00   \n4236                0             0         0    210.0  126.5   87.0  19.16   \n4237                0             0         0    269.0  133.5   83.0  21.47   \n4238                0             1         0    185.0  141.0   98.0  25.60   \n4239                0             0         0    196.0  133.0   86.0  20.91   \n\n      heartRate  glucose  TenYearCHD  \n0          80.0     77.0           0  \n1          95.0     76.0           0  \n2          75.0     70.0           0  \n3          65.0    103.0           1  \n4          85.0     85.0           0  \n...         ...      ...         ...  \n4235       84.0     86.0           0  \n4236       86.0      NaN           0  \n4237       80.0    107.0           0  \n4238       67.0     72.0           0  \n4239       85.0     80.0           0  \n\n[4240 rows x 16 columns]\n"
    }
   ],
   "source": [
    "df = pd.read_csv('datasets_4123_6408_framingham.csv')\n",
    "df.head()\n",
    "print(df)"
   ]
  },
  {
   "cell_type": "code",
   "execution_count": 3,
   "metadata": {},
   "outputs": [
    {
     "output_type": "execute_result",
     "data": {
      "text/plain": "   male  age  currentSmoker  cigsPerDay  BPMeds  prevalentStroke  \\\n0     1   39              0         0.0     0.0                0   \n1     0   46              0         0.0     0.0                0   \n2     1   48              1        20.0     0.0                0   \n3     0   61              1        30.0     0.0                0   \n4     0   46              1        23.0     0.0                0   \n\n   prevalentHyp  diabetes  totChol  sysBP  diaBP    BMI  heartRate  glucose  \\\n0             0         0    195.0  106.0   70.0  26.97       80.0     77.0   \n1             0         0    250.0  121.0   81.0  28.73       95.0     76.0   \n2             0         0    245.0  127.5   80.0  25.34       75.0     70.0   \n3             1         0    225.0  150.0   95.0  28.58       65.0    103.0   \n4             0         0    285.0  130.0   84.0  23.10       85.0     85.0   \n\n   TenYearCHD  \n0           0  \n1           0  \n2           0  \n3           1  \n4           0  ",
      "text/html": "<div>\n<style scoped>\n    .dataframe tbody tr th:only-of-type {\n        vertical-align: middle;\n    }\n\n    .dataframe tbody tr th {\n        vertical-align: top;\n    }\n\n    .dataframe thead th {\n        text-align: right;\n    }\n</style>\n<table border=\"1\" class=\"dataframe\">\n  <thead>\n    <tr style=\"text-align: right;\">\n      <th></th>\n      <th>male</th>\n      <th>age</th>\n      <th>currentSmoker</th>\n      <th>cigsPerDay</th>\n      <th>BPMeds</th>\n      <th>prevalentStroke</th>\n      <th>prevalentHyp</th>\n      <th>diabetes</th>\n      <th>totChol</th>\n      <th>sysBP</th>\n      <th>diaBP</th>\n      <th>BMI</th>\n      <th>heartRate</th>\n      <th>glucose</th>\n      <th>TenYearCHD</th>\n    </tr>\n  </thead>\n  <tbody>\n    <tr>\n      <th>0</th>\n      <td>1</td>\n      <td>39</td>\n      <td>0</td>\n      <td>0.0</td>\n      <td>0.0</td>\n      <td>0</td>\n      <td>0</td>\n      <td>0</td>\n      <td>195.0</td>\n      <td>106.0</td>\n      <td>70.0</td>\n      <td>26.97</td>\n      <td>80.0</td>\n      <td>77.0</td>\n      <td>0</td>\n    </tr>\n    <tr>\n      <th>1</th>\n      <td>0</td>\n      <td>46</td>\n      <td>0</td>\n      <td>0.0</td>\n      <td>0.0</td>\n      <td>0</td>\n      <td>0</td>\n      <td>0</td>\n      <td>250.0</td>\n      <td>121.0</td>\n      <td>81.0</td>\n      <td>28.73</td>\n      <td>95.0</td>\n      <td>76.0</td>\n      <td>0</td>\n    </tr>\n    <tr>\n      <th>2</th>\n      <td>1</td>\n      <td>48</td>\n      <td>1</td>\n      <td>20.0</td>\n      <td>0.0</td>\n      <td>0</td>\n      <td>0</td>\n      <td>0</td>\n      <td>245.0</td>\n      <td>127.5</td>\n      <td>80.0</td>\n      <td>25.34</td>\n      <td>75.0</td>\n      <td>70.0</td>\n      <td>0</td>\n    </tr>\n    <tr>\n      <th>3</th>\n      <td>0</td>\n      <td>61</td>\n      <td>1</td>\n      <td>30.0</td>\n      <td>0.0</td>\n      <td>0</td>\n      <td>1</td>\n      <td>0</td>\n      <td>225.0</td>\n      <td>150.0</td>\n      <td>95.0</td>\n      <td>28.58</td>\n      <td>65.0</td>\n      <td>103.0</td>\n      <td>1</td>\n    </tr>\n    <tr>\n      <th>4</th>\n      <td>0</td>\n      <td>46</td>\n      <td>1</td>\n      <td>23.0</td>\n      <td>0.0</td>\n      <td>0</td>\n      <td>0</td>\n      <td>0</td>\n      <td>285.0</td>\n      <td>130.0</td>\n      <td>84.0</td>\n      <td>23.10</td>\n      <td>85.0</td>\n      <td>85.0</td>\n      <td>0</td>\n    </tr>\n  </tbody>\n</table>\n</div>"
     },
     "metadata": {},
     "execution_count": 3
    }
   ],
   "source": [
    "df = df.drop(columns = ['education'])\n",
    "df.head()"
   ]
  },
  {
   "cell_type": "code",
   "execution_count": 4,
   "metadata": {
    "tags": []
   },
   "outputs": [
    {
     "output_type": "stream",
     "name": "stdout",
     "text": "3751\n"
    }
   ],
   "source": [
    "count_missing = 0\n",
    "for i in range(len(df.index)) :\n",
    "    if (df.iloc[i].isnull().sum()>0):\n",
    "        count_missing = count_missing + 1\n",
    "print(4240-count_missing)"
   ]
  },
  {
   "cell_type": "code",
   "execution_count": 5,
   "metadata": {},
   "outputs": [],
   "source": [
    "df = df.dropna()"
   ]
  },
  {
   "cell_type": "code",
   "execution_count": 6,
   "metadata": {
    "tags": []
   },
   "outputs": [
    {
     "output_type": "stream",
     "name": "stdout",
     "text": "male  age  currentSmoker  cigsPerDay  BPMeds  prevalentStroke  \\\n0        1   39              0         0.0     0.0                0   \n1        0   46              0         0.0     0.0                0   \n2        1   48              1        20.0     0.0                0   \n3        0   61              1        30.0     0.0                0   \n4        0   46              1        23.0     0.0                0   \n...    ...  ...            ...         ...     ...              ...   \n4233     1   50              1         1.0     0.0                0   \n4234     1   51              1        43.0     0.0                0   \n4237     0   52              0         0.0     0.0                0   \n4238     1   40              0         0.0     0.0                0   \n4239     0   39              1        30.0     0.0                0   \n\n      prevalentHyp  diabetes  totChol  sysBP  diaBP    BMI  heartRate  \\\n0                0         0    195.0  106.0   70.0  26.97       80.0   \n1                0         0    250.0  121.0   81.0  28.73       95.0   \n2                0         0    245.0  127.5   80.0  25.34       75.0   \n3                1         0    225.0  150.0   95.0  28.58       65.0   \n4                0         0    285.0  130.0   84.0  23.10       85.0   \n...            ...       ...      ...    ...    ...    ...        ...   \n4233             1         0    313.0  179.0   92.0  25.97       66.0   \n4234             0         0    207.0  126.5   80.0  19.71       65.0   \n4237             0         0    269.0  133.5   83.0  21.47       80.0   \n4238             1         0    185.0  141.0   98.0  25.60       67.0   \n4239             0         0    196.0  133.0   86.0  20.91       85.0   \n\n      glucose  TenYearCHD  \n0        77.0           0  \n1        76.0           0  \n2        70.0           0  \n3       103.0           1  \n4        85.0           0  \n...       ...         ...  \n4233     86.0           1  \n4234     68.0           0  \n4237    107.0           0  \n4238     72.0           0  \n4239     80.0           0  \n\n[3751 rows x 15 columns]\n"
    }
   ],
   "source": [
    "print(df)"
   ]
  },
  {
   "cell_type": "code",
   "execution_count": 7,
   "metadata": {},
   "outputs": [],
   "source": [
    "features = ['cigsPerDay', 'diabetes', 'totChol', 'sysBP', 'diaBP', 'BMI', 'heartRate', 'glucose']"
   ]
  },
  {
   "cell_type": "code",
   "execution_count": 8,
   "metadata": {},
   "outputs": [],
   "source": [
    "X = df[features]\n",
    "y = df.iloc[:,-1]\n",
    "X_train,X_test,y_train,y_test = train_test_split(X,y,train_size=0.85,random_state=30)\n"
   ]
  },
  {
   "cell_type": "code",
   "execution_count": 9,
   "metadata": {},
   "outputs": [],
   "source": [
    "from sklearn.linear_model import LogisticRegression\n",
    "from sklearn.model_selection import GridSearchCV\n",
    "\n",
    "params = {'penalty':['l1','l2'],\n",
    "         'C':[0.01,0.1,1,10,100],\n",
    "         'class_weight':['balanced',None]}\n",
    "risk_model = GridSearchCV(LogisticRegression(),param_grid=params,cv=10)"
   ]
  },
  {
   "cell_type": "code",
   "execution_count": 17,
   "metadata": {},
   "outputs": [
    {
     "output_type": "execute_result",
     "data": {
      "text/plain": "GridSearchCV(cv=10, estimator=LogisticRegression(),\n             param_grid={'C': [0.01, 0.1, 1, 10, 100],\n                         'class_weight': ['balanced', None],\n                         'penalty': ['l1', 'l2']})"
     },
     "metadata": {},
     "execution_count": 17
    }
   ],
   "source": [
    "\n",
    "risk_model.fit(X_train, y_train)"
   ]
  },
  {
   "cell_type": "code",
   "execution_count": 12,
   "metadata": {
    "tags": []
   },
   "outputs": [
    {
     "output_type": "stream",
     "name": "stdout",
     "text": "0.8436944937833037\n"
    }
   ],
   "source": [
    "from sklearn.metrics import accuracy_score\n",
    "\n",
    "results = risk_model.predict(X_test)\n",
    "\n",
    "#mse = metrics.mean_squared_error(y_test, results)\n",
    "#rmse = np.sqrt(mse)\n",
    "accuracy = accuracy_score(y_test, results)\n",
    "\n",
    "print(accuracy)"
   ]
  },
  {
   "cell_type": "code",
   "execution_count": 13,
   "metadata": {
    "tags": []
   },
   "outputs": [
    {
     "output_type": "stream",
     "name": "stdout",
     "text": "[0 0 0 0 0 0 0 0 0 0 0 0 0 0 0 0 0 0 0 0 0 0 0 0 0 0 0 0 0 0 0 0 0 0 0 0 0\n 0 0 0 0 0 0 0 0 0 0 0 0 0 0 0 0 0 0 0 0 0 0 0 0 0 0 0 0 0 0 0 0 0 0 0 0 0\n 0 0 0 0 0 0 0 0 0 0 0 0 0 0 0 0 0 0 0 0 0 0 0 0 0 0 0 0 0 0 0 0 1 0 0 0 0\n 0 0 0 0 0 0 0 0 0 0 0 0 0 0 0 0 0 0 0 0 0 0 0 0 0 0 0 0 0 0 0 0 0 0 0 0 0\n 0 0 0 0 0 0 0 0 0 0 0 0 0 0 0 1 0 0 0 0 0 0 0 0 0 0 1 0 0 0 0 0 0 0 0 0 0\n 0 0 0 0 0 0 0 0 0 0 0 0 0 0 0 0 0 0 0 0 0 0 0 0 0 0 0 0 0 0 0 0 0 0 0 0 0\n 0 0 0 0 0 0 0 0 0 0 0 0 0 0 0 0 0 0 0 0 0 0 0 0 0 0 0 0 0 0 0 0 0 0 0 0 0\n 0 0 0 0 0 0 0 0 0 0 0 0 0 0 0 0 0 0 0 0 0 0 0 0 0 0 0 0 0 0 0 0 0 0 0 0 0\n 0 0 0 1 0 0 0 0 0 0 0 0 0 0 0 0 0 0 0 0 0 0 0 0 0 0 0 0 0 0 0 0 0 0 0 0 0\n 0 0 0 0 0 0 0 0 0 0 0 0 0 0 0 1 0 0 0 0 0 0 0 0 0 0 0 0 0 0 0 0 0 0 0 0 0\n 0 0 0 0 0 0 0 0 0 0 0 0 0 0 0 0 0 0 0 0 0 0 0 0 0 0 0 0 0 0 0 0 0 0 0 0 0\n 0 0 1 0 0 0 0 0 0 0 0 0 0 0 0 0 0 0 0 0 0 0 0 0 0 0 0 0 0 0 0 0 0 0 0 0 0\n 0 0 0 0 0 0 0 0 0 0 0 0 0 0 0 0 0 0 0 0 0 0 0 0 0 0 0 0 0 0 0 0 0 0 0 0 0\n 0 0 0 0 0 0 0 0 0 0 0 0 0 0 0 0 0 0 0 0 0 0 0 0 0 0 0 0 0 0 0 0 0 0 0 0 0\n 0 0 0 0 0 0 0 0 0 0 0 0 0 0 0 0 0 0 0 0 0 0 0 0 0 0 0 0 0 0 0 0 0 0 0 0 0\n 0 0 0 0 0 0 0 0]\n"
    }
   ],
   "source": [
    "print(results)"
   ]
  },
  {
   "cell_type": "code",
   "execution_count": 14,
   "metadata": {
    "tags": []
   },
   "outputs": [
    {
     "output_type": "stream",
     "name": "stdout",
     "text": "cigsPerDay  diabetes  totChol  sysBP  diaBP    BMI  heartRate  glucose\n561          0.0         0    275.0  113.5   75.5  19.63       66.0     78.0\n3626         0.0         0    182.0  138.0   72.0  21.67       85.0    108.0\n3275         2.0         0    159.0   99.0   62.0  19.09       80.0     67.0\n3130         0.0         0    222.0  125.0   76.0  25.23       60.0     77.0\n1754        15.0         0    164.0  100.0   64.0  19.87       85.0     65.0\n...          ...       ...      ...    ...    ...    ...        ...      ...\n3965         0.0         0    223.0  144.0   87.0  21.75       72.0     92.0\n1835         0.0         0    233.0  115.0   70.0  25.03       68.0     97.0\n1773         0.0         0    235.0  150.5   98.0  32.40       75.0     92.0\n2838         0.0         0    173.0  135.0   97.5  30.71       63.0     86.0\n3599        20.0         0    270.0  167.5   92.5  21.28       85.0     77.0\n\n[563 rows x 8 columns]\n"
    }
   ],
   "source": [
    "print(X_test)"
   ]
  },
  {
   "cell_type": "code",
   "execution_count": 15,
   "metadata": {
    "tags": []
   },
   "outputs": [
    {
     "output_type": "stream",
     "name": "stdout",
     "text": "561     0\n3626    0\n3275    0\n3130    0\n1754    0\n       ..\n3965    0\n1835    0\n1773    0\n2838    0\n3599    0\nName: TenYearCHD, Length: 563, dtype: int64\n"
    }
   ],
   "source": [
    "print(y_test)"
   ]
  },
  {
   "cell_type": "code",
   "execution_count": 16,
   "metadata": {
    "tags": []
   },
   "outputs": [
    {
     "output_type": "stream",
     "name": "stdout",
     "text": "cigsPerDay  diabetes  totChol  sysBP  diaBP    BMI  heartRate  glucose\n1930         0.0         0    288.0  158.0   90.0  32.84       70.0     87.0\n2034        15.0         0    165.0  113.0   79.0  28.96       75.0     72.0\n2297        30.0         0    195.0  113.5   72.0  21.78       65.0     67.0\n2432        20.0         0    189.0  132.0   76.0  20.26       75.0     60.0\n1386         0.0         0    234.0  126.0   73.0  27.60       75.0     90.0\n...          ...       ...      ...    ...    ...    ...        ...      ...\n1304        43.0         0    259.0  125.0   89.0  24.80      100.0     57.0\n562          0.0         0    252.0  128.0   93.0  30.36      105.0     63.0\n3393         0.0         0    157.0  130.0   87.0  28.73       72.0     47.0\n476          0.0         0    168.0  127.0   74.0  27.38       63.0     85.0\n2073        15.0         0    216.0  116.0   72.0  24.25       76.0     71.0\n\n[3188 rows x 8 columns]\n1930    0\n2034    0\n2297    0\n2432    0\n1386    0\n       ..\n1304    0\n562     0\n3393    0\n476     0\n2073    0\nName: TenYearCHD, Length: 3188, dtype: int64\n"
    }
   ],
   "source": [
    "print(X_train)\n",
    "print(y_train)"
   ]
  },
  {
   "cell_type": "code",
   "execution_count": 103,
   "metadata": {
    "tags": []
   },
   "outputs": [
    {
     "output_type": "stream",
     "name": "stdout",
     "text": "[1]\n"
    }
   ],
   "source": [
    "test=[[20.0,0,300.0,200.0,100.0,27.87,100.0,100.0]]\n",
    "results = risk_model.predict(test)\n",
    "print(results)"
   ]
  },
  {
   "cell_type": "code",
   "execution_count": 104,
   "metadata": {
    "tags": []
   },
   "outputs": [
    {
     "output_type": "stream",
     "name": "stdout",
     "text": "[20.0]\n"
    }
   ],
   "source": [
    "n=[]\n",
    "for i in range (len(test)):\n",
    "    n.append(test[i][0])\n",
    "print(n)"
   ]
  },
  {
   "cell_type": "code",
   "execution_count": 105,
   "metadata": {
    "tags": []
   },
   "outputs": [
    {
     "output_type": "stream",
     "name": "stdout",
     "text": "1. Current Cigs per day: 20.0\nChange to:  11.0 \n\n"
    }
   ],
   "source": [
    "for i in range (len(results)):\n",
    "    if (results[i]==1 and test[i][0]>0):\n",
    "        while(test[i][0]>=0):\n",
    "            test[i][0] = test[i][0]-1\n",
    "            result = risk_model.predict(test)\n",
    "            if result[0] == 1:\n",
    "                continue\n",
    "            else:\n",
    "                break\n",
    "    elif results[i] == 0:\n",
    "        print('No risk factor')\n",
    "    \n",
    "    elif test[i][0] == 0:\n",
    "        print('Non-smoker')\n",
    "\n",
    "for i in range (len(results)):\n",
    "    print(f'{i+1}. Current Cigs per day: {n[i]}')\n",
    "    print('Change to: ', test[i][0],\"\\n\")\n",
    "\n"
   ]
  },
  {
   "cell_type": "code",
   "execution_count": null,
   "metadata": {},
   "outputs": [],
   "source": []
  }
 ]
}